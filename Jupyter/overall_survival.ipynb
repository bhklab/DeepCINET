{
 "cells": [
  {
   "cell_type": "code",
   "execution_count": 41,
   "metadata": {
    "collapsed": true
   },
   "outputs": [
    {
     "name": "stdout",
     "output_type": "stream",
     "text": [
      "(root): Jupyter notebook start\n"
     ]
    },
    {
     "name": "stdout",
     "output_type": "stream",
     "text": [
      "(root): Data results: /Users/jmigual/Documents/Projects/CNNSurv/Data/Results\n"
     ]
    }
   ],
   "source": [
    "import os\n",
    "\n",
    "import pandas as pd\n",
    "import numpy as np\n",
    "import matplotlib.pyplot as plt\n",
    "import seaborn as sns\n",
    "from sklearn.metrics import confusion_matrix\n",
    "\n",
    "import settings\n",
    "import utils\n",
    "\n",
    "logger = utils.init_logger(f'overall_survival', './outputs')\n",
    "logger.info(\"Jupyter notebook start\")\n",
    "\n",
    "DATA_RESULTS = os.path.join(settings.DATA_PATH, \"Results\")\n",
    "logger.info(f\"Data results: {DATA_RESULTS}\")\n",
    "\n",
    "clinical_info = pd.read_csv(settings.DATA_PATH_CLINICAL_PROCESSED, index_col=0)"
   ]
  },
  {
   "cell_type": "code",
   "execution_count": 47,
   "metadata": {},
   "outputs": [
    {
     "name": "stdout",
     "output_type": "stream",
     "text": [
      "(utils.results): Searching on /Users/jmigual/Documents/Projects/CNNSurv/Data/Results/Model_scalar mixed\n"
     ]
    },
    {
     "name": "stdout",
     "output_type": "stream",
     "text": [
      "(utils.results): Found 509\n"
     ]
    },
    {
     "name": "stdout",
     "output_type": "stream",
     "text": [
      "(utils.results): Finished /Users/jmigual/Documents/Projects/CNNSurv/Data/Results/Model_scalar mixed\n\n"
     ]
    },
    {
     "name": "stdout",
     "output_type": "stream",
     "text": [
      "(utils.results): Searching on /Users/jmigual/Documents/Projects/CNNSurv/Data/Results/Model_volume mixed\n"
     ]
    },
    {
     "name": "stdout",
     "output_type": "stream",
     "text": [
      "(utils.results): Found 509\n"
     ]
    },
    {
     "name": "stdout",
     "output_type": "stream",
     "text": [
      "(utils.results): Finished /Users/jmigual/Documents/Projects/CNNSurv/Data/Results/Model_volume mixed\n\n"
     ]
    }
   ],
   "source": [
    "\n",
    "results = {\n",
    "    'scalar': utils.all_results(DATA_RESULTS + \"/Model_scalar\", \"mixed\", elem_folds=True)[2],\n",
    "    'volume': utils.all_results(DATA_RESULTS + \"/Model_volume\", \"mixed\", elem_folds=True)[2],\n",
    "}"
   ]
  },
  {
   "cell_type": "code",
   "execution_count": 46,
   "metadata": {
    "collapsed": true
   },
   "outputs": [
    {
     "name": "stdout",
     "output_type": "stream",
     "text": [
      "Index(['id', 'age', 'sex', 'event', 'time'], dtype='object')\n"
     ]
    },
    {
     "ename": "NameError",
     "evalue": "name 'results' is not defined",
     "traceback": [
      "\u001b[0;31m---------------------------------------------------------------------------\u001b[0m",
      "\u001b[0;31mNameError\u001b[0m                                 Traceback (most recent call last)",
      "\u001b[0;32m<ipython-input-46-9925ff9b93fa>\u001b[0m in \u001b[0;36m<module>\u001b[0;34m()\u001b[0m\n\u001b[1;32m     62\u001b[0m \u001b[0;34m\u001b[0m\u001b[0m\n\u001b[1;32m     63\u001b[0m \u001b[0;34m\u001b[0m\u001b[0m\n\u001b[0;32m---> 64\u001b[0;31m \u001b[0mplot_risk_predictions\u001b[0m\u001b[0;34m(\u001b[0m\u001b[0mresults\u001b[0m\u001b[0;34m[\u001b[0m\u001b[0;34m'scalar'\u001b[0m\u001b[0;34m]\u001b[0m\u001b[0;34m,\u001b[0m \u001b[0;34m'scalar'\u001b[0m\u001b[0;34m)\u001b[0m\u001b[0;34m\u001b[0m\u001b[0m\n\u001b[0m\u001b[1;32m     65\u001b[0m \u001b[0mplot_risk_predictions\u001b[0m\u001b[0;34m(\u001b[0m\u001b[0mresults\u001b[0m\u001b[0;34m[\u001b[0m\u001b[0;34m'volume'\u001b[0m\u001b[0;34m]\u001b[0m\u001b[0;34m,\u001b[0m \u001b[0;34m'volume'\u001b[0m\u001b[0;34m)\u001b[0m\u001b[0;34m\u001b[0m\u001b[0m\n",
      "\u001b[0;31mNameError\u001b[0m: name 'results' is not defined"
     ],
     "output_type": "error"
    }
   ],
   "source": [
    "print(clinical_info.columns)\n",
    "\n",
    "long_survivors = set(clinical_info[clinical_info['time'] > 2]['id'])\n",
    "short_survivors = set(clinical_info[clinical_info['time'] < 1]['id'])\n",
    "mid_survivors = set(clinical_info['id']) - long_survivors - short_survivors\n",
    "\n",
    "sets = [(\"long\", long_survivors), (\"short\", short_survivors), (\"mid\", mid_survivors)]\n",
    "\n",
    "\n",
    "def test_positive(survs: set, df: pd.DataFrame, str_key: str):\n",
    "    # print(key)\n",
    "    # print(df[df['pA'].isin(survs)])\n",
    "    comps = df[df['pA'].isin(survs) & (df['pB'] == str_key)]\n",
    "    total = len(comps)\n",
    "    count = len(comps[comps['predictions']])\n",
    "    # print(total)\n",
    "    # print(count)\n",
    "    # print(comps[comps['predictions']])\n",
    "    \n",
    "    comps = df[(df['pA'] == str_key) & (df['pB'].isin(survs))]\n",
    "    total += len(comps)\n",
    "    count += len(comps[~comps['predictions']])\n",
    "    \n",
    "    return count/total\n",
    "\n",
    "\n",
    "def get_risk_predictions(preds):\n",
    "    y_true = []\n",
    "    y_pred = []\n",
    "    for key, pred_df in preds.items():\n",
    "        # print(pred_df.columns)\n",
    "        \n",
    "        is_censored = not bool(clinical_info.loc[clinical_info['id'] == key, 'event'].iloc[0])\n",
    "        if is_censored:\n",
    "            continue\n",
    "        \n",
    "        for name, class_set in sets:\n",
    "            if key in class_set:\n",
    "                y_true.append(name)\n",
    "                break\n",
    "        else:\n",
    "            print(\"Error no set found\")\n",
    "        \n",
    "        # Test long survivability\n",
    "        if not test_positive(long_survivors, pred_df, key) < 0.5:\n",
    "            y_pred.append(\"long\")\n",
    "        elif not test_positive(short_survivors, pred_df, key) > 0.5:\n",
    "            y_pred.append(\"short\")\n",
    "        else:\n",
    "            y_pred.append(\"mid\")\n",
    "            \n",
    "    return y_true, y_pred\n",
    "\n",
    "\n",
    "def plot_risk_predictions(preds, name: str):\n",
    "    y_true, y_pred = get_risk_predictions(preds)\n",
    "    matrix: np.ndarray = confusion_matrix(y_true, y_pred, ['short', 'mid', 'long'])\n",
    "    logger.info(matrix.diagonal().sum()/matrix.sum())\n",
    "    \n",
    "    sns.heatmap(matrix, vmin=0, annot=True)\n",
    "    plt.savefig(f\"outputs/survival_{name}.png\", dpi=300)\n",
    "    \n",
    "    \n",
    "plot_risk_predictions(results['scalar'], 'scalar')\n",
    "plot_risk_predictions(results['volume'], 'volume')"
   ]
  },
  {
   "cell_type": "code",
   "execution_count": null,
   "metadata": {},
   "outputs": [],
   "source": []
  }
 ],
 "metadata": {
  "kernelspec": {
   "display_name": "Python 2",
   "language": "python",
   "name": "python2"
  },
  "language_info": {
   "codemirror_mode": {
    "name": "ipython",
    "version": 2
   },
   "file_extension": ".py",
   "mimetype": "text/x-python",
   "name": "python",
   "nbconvert_exporter": "python",
   "pygments_lexer": "ipython2",
   "version": "2.7.6"
  }
 },
 "nbformat": 4,
 "nbformat_minor": 0
}
