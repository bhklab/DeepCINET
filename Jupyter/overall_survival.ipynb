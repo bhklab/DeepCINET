{
 "cells": [
  {
   "cell_type": "code",
   "execution_count": 1,
   "metadata": {
    "collapsed": true
   },
   "outputs": [
    {
     "name": "stdout",
     "output_type": "stream",
     "text": [
      "(root): Jupyter notebook start\n"
     ]
    },
    {
     "name": "stdout",
     "output_type": "stream",
     "text": [
      "(root): Data results: /Users/jmigual/Documents/Projects/CNNSurv/Data/Results\n"
     ]
    },
    {
     "name": "stdout",
     "output_type": "stream",
     "text": [
      "(matplotlib.backends): backend module://ipykernel.pylab.backend_inline version unknown\n"
     ]
    }
   ],
   "source": [
    "import os\n",
    "\n",
    "import pandas as pd\n",
    "import numpy as np\n",
    "import matplotlib.pyplot as plt\n",
    "import seaborn as sns\n",
    "from sklearn.metrics import confusion_matrix\n",
    "\n",
    "import settings\n",
    "import utils\n",
    "\n",
    "logger = utils.init_logger(f'overall_survival', './outputs')\n",
    "logger.info(\"Jupyter notebook start\")\n",
    "\n",
    "DATA_RESULTS = os.path.join(settings.DATA_PATH, \"Results\")\n",
    "logger.info(f\"Data results: {DATA_RESULTS}\")\n",
    "\n",
    "clinical_info = pd.read_csv(settings.DATA_PATH_CLINICAL_PROCESSED, index_col=0)"
   ]
  },
  {
   "cell_type": "code",
   "execution_count": 2,
   "metadata": {},
   "outputs": [
    {
     "name": "stdout",
     "output_type": "stream",
     "text": [
      "(utils.results): Searching on /Users/jmigual/Documents/Projects/CNNSurv/Data/Results/Model_scalar_LOOCV_3 mixed\n"
     ]
    },
    {
     "name": "stdout",
     "output_type": "stream",
     "text": [
      "(utils.results): Found 490\n"
     ]
    },
    {
     "name": "stdout",
     "output_type": "stream",
     "text": [
      "(utils.results): Finished /Users/jmigual/Documents/Projects/CNNSurv/Data/Results/Model_scalar_LOOCV_3 mixed\n\n"
     ]
    },
    {
     "name": "stdout",
     "output_type": "stream",
     "text": [
      "(utils.results): Searching on /Users/jmigual/Documents/Projects/CNNSurv/Data/Results/Model_volume_LOOCV_3 mixed\n"
     ]
    },
    {
     "name": "stdout",
     "output_type": "stream",
     "text": [
      "(utils.results): Found 490\n"
     ]
    },
    {
     "name": "stdout",
     "output_type": "stream",
     "text": [
      "(utils.results): Finished /Users/jmigual/Documents/Projects/CNNSurv/Data/Results/Model_volume_LOOCV_3 mixed\n\n"
     ]
    }
   ],
   "source": [
    "\n",
    "results = {\n",
    "    'scalar': utils.all_results(DATA_RESULTS + \"/Model_scalar_LOOCV_3\", \"mixed\", elem_folds=True)[2],\n",
    "    'volume': utils.all_results(DATA_RESULTS + \"/Model_volume_LOOCV_3\", \"mixed\", elem_folds=True)[2],\n",
    "}"
   ]
  },
  {
   "cell_type": "code",
   "execution_count": 24,
   "metadata": {
    "scrolled": false
   },
   "outputs": [
    {
     "name": "stdout",
     "output_type": "stream",
     "text": [
      "Index(['id', 'age', 'sex', 'event', 'time'], dtype='object')\n"
     ]
    },
    {
     "name": "stdout",
     "output_type": "stream",
     "text": [
      "(root): 0.5955056179775281\n"
     ]
    },
    {
     "name": "stdout",
     "output_type": "stream",
     "text": [
      "370 120 0\n370 120\n178 178\n"
     ]
    },
    {
     "data": {
      "image/png": "[encoded data removed]",
      "text/plain": [
       "<Figure size 432x288 with 2 Axes>"
      ]
     },
     "metadata": {},
     "output_type": "display_data"
    }
   ],
   "source": [
    "print(clinical_info.columns)\n",
    "\n",
    "LONG_THRESHOLD = 2\n",
    "MID_THRESHOLD = 0\n",
    "\n",
    "long_survivors = set(clinical_info[clinical_info['time'] > LONG_THRESHOLD]['id'])\n",
    "short_survivors = set(clinical_info[clinical_info['time'] < MID_THRESHOLD]['id'])\n",
    "mid_survivors = set(clinical_info['id']) - long_survivors - short_survivors\n",
    "\n",
    "long_s = set(clinical_info[clinical_info['time'] > LONG_THRESHOLD]['id'])\n",
    "short_s = set(clinical_info[clinical_info['time'] <= LONG_THRESHOLD]['id'])\n",
    "\n",
    "# sets = [(\"long\", long_survivors), (\"short\", short_survivors), (\"mid\", mid_survivors)]\n",
    "sets = [(\"long\", long_s), (\"short\", short_s)]\n",
    "\n",
    "\n",
    "def test_positive(survs: set, df: pd.DataFrame, str_key: str):\n",
    "    # print(key)\n",
    "    # print(df[df['pA'].isin(survs)])\n",
    "    comps = df[df['pA'].isin(survs) & (df['pB'] == str_key)]\n",
    "    total = len(comps)\n",
    "    count = len(comps[comps['predictions']])\n",
    "    # print(total)\n",
    "    # print(count)\n",
    "    # print(comps[comps['predictions']])\n",
    "    \n",
    "    comps = df[(df['pA'] == str_key) & (df['pB'].isin(survs))]\n",
    "    total += len(comps)\n",
    "    count += len(comps[~comps['predictions']])\n",
    "    \n",
    "    return count/total\n",
    "\n",
    "\n",
    "def get_individual_prediction(pred_df, key):\n",
    "    if test_positive(long_survivors, pred_df, key) > 0.5:\n",
    "            return \"long\"\n",
    "    elif test_positive(mid_survivors, pred_df, key) > 0.5:\n",
    "        return \"mid\"\n",
    "    else:\n",
    "        return \"short\"\n",
    "    \n",
    "    \n",
    "def get_individual_prediction_3(pred_df: pd.DataFrame, key: str):\n",
    "    if test_positive(long_survivors, pred_df, key) < 0.7:\n",
    "        return \"short\"\n",
    "    else:\n",
    "        return \"long\"\n",
    "    \n",
    "\n",
    "def get_individual_prediction_2(pred_df: pd.DataFrame, key: str):\n",
    "    \n",
    "    # ['age_a', 'age_b', 'time_a', 'time_b', 'pA', 'pB', 'labels',\n",
    "    #  'predictions', 'probabilities', 'gather_a', 'gather_b'])\n",
    "    time = None\n",
    "    \n",
    "    pred_times = []\n",
    "    for i in range(2):\n",
    "        pred_df = pred_df.sample(frac=1)\n",
    "#         logger.debug(f\"Iter {i}\")\n",
    "        for _, row in pred_df.iterrows():\n",
    "            if key == row['pA']:\n",
    "                pair_time = row['time_b']\n",
    "                comp = not bool(row['predictions'])\n",
    "                label = not bool(row['labels'])\n",
    "            else:\n",
    "                pair_time = row['time_a']\n",
    "                comp = bool(row['predictions'])\n",
    "                label = bool(row['labels'])\n",
    "            \n",
    "            if time is None:\n",
    "                time = pair_time\n",
    "                diff = 0\n",
    "            \n",
    "            # comp == True means time_b > time_a\n",
    "            \n",
    "            alpha = .10\n",
    "            if (comp and time < pair_time) or not comp and time > pair_time:\n",
    "                diff = alpha*(pair_time - time) + (1 - alpha)*diff\n",
    "                time += diff\n",
    "            else:\n",
    "                diff *= 1 - alpha\n",
    "                \n",
    "#             logger.debug(f\"{time:.3} {pair_time:.3} {diff:.2} | {comp} {label}\")\n",
    "                \n",
    "            if i > 0:\n",
    "                pred_times.append(time)\n",
    "        \n",
    "    pred_times = np.array(pred_times)\n",
    "    real_time = clinical_info.loc[clinical_info['id'] == key, 'time'].iloc[0]\n",
    "    # print(real_time)\n",
    "    \n",
    "    pred_mean = pred_times.mean()\n",
    "    c_index = sum(pred_df['predictions'] == pred_df['labels'])/len(pred_df)\n",
    "#     print(c_index)\n",
    "    logger.debug(f\"{key} {pred_mean:.3} vs {real_time:.3} | CI {c_index:.3}\")\n",
    "#     plt.hist(pred_times, range=(0, 11))\n",
    "#     plt.axvline(pred_times.mean(), color='r')\n",
    "#     plt.axvline(real_time, color='g')\n",
    "#     plt.show()\n",
    "    \n",
    "    if pred_mean > LONG_THRESHOLD:\n",
    "        return \"long\"\n",
    "    elif pred_mean >= MID_THRESHOLD:\n",
    "        return \"mid\"\n",
    "    else:\n",
    "        return \"short\"\n",
    "\n",
    "\n",
    "def get_risk_predictions(preds):\n",
    "    y_true = []\n",
    "    y_pred = []\n",
    "    for key, pred_df in preds.items():\n",
    "        # print(key)\n",
    "        # print(pred_df.columns)\n",
    "        # \n",
    "        # if key != \"FHBO042\":\n",
    "        #     continue\n",
    "        \n",
    "        is_censored = not bool(clinical_info.loc[clinical_info['id'] == key, 'event'].iloc[0])\n",
    "        if is_censored:\n",
    "            continue\n",
    "        \n",
    "        for name, class_set in sets:\n",
    "            if key in class_set:\n",
    "                y_true.append(name)\n",
    "                break\n",
    "        else:\n",
    "            print(\"Error no set found\")\n",
    "        \n",
    "        # Test long survivability\n",
    "        # y_pred.append(get_individual_prediction_2(pred_df, key))\n",
    "        # y_pred.append(get_individual_prediction(pred_df, key))\n",
    "        y_pred.append(get_individual_prediction_3(pred_df, key))\n",
    "#         break\n",
    "    return y_true, y_pred\n",
    "\n",
    "\n",
    "def plot_risk_predictions(preds, name: str):\n",
    "    y_true, y_pred = get_risk_predictions(preds)\n",
    "    # labels = ['short', 'mid', 'long']\n",
    "    labels = ['short', 'long']\n",
    "    matrix: np.ndarray = confusion_matrix(y_true, y_pred, labels=labels)\n",
    "    logger.info(matrix.diagonal().sum()/matrix.sum())\n",
    "    \n",
    "    print(len(long_survivors), len(mid_survivors), len(short_survivors))\n",
    "    print(len(long_s), len(short_s))\n",
    "    print(len(y_true), len(y_pred))\n",
    "    # print(y_true)\n",
    "    # print(y_pred)\n",
    "\n",
    "    sns.heatmap(matrix, vmin=0, annot=True, xticklabels=labels, yticklabels=labels)\n",
    "    plt.title(f\"Confusion matrix {name}\")\n",
    "    plt.savefig(f\"outputs/survival_{name}.png\", dpi=300)\n",
    "    plt.ylabel(\"True\")\n",
    "    plt.xlabel(\"Predictions\")\n",
    "    plt.show()\n",
    "    \n",
    "    \n",
    "plot_risk_predictions(results['scalar'], 'scalar')\n",
    "# plot_risk_predictions(results['volume'], 'volume')"
   ]
  },
  {
   "cell_type": "code",
   "execution_count": null,
   "metadata": {},
   "outputs": [],
   "source": []
  },
  {
   "cell_type": "code",
   "execution_count": null,
   "metadata": {},
   "outputs": [],
   "source": []
  }
 ],
 "metadata": {
  "kernelspec": {
   "display_name": "Python 3",
   "language": "python",
   "name": "python3"
  },
  "language_info": {
   "codemirror_mode": {
    "name": "ipython",
    "version": 3
   },
   "file_extension": ".py",
   "mimetype": "text/x-python",
   "name": "python",
   "nbconvert_exporter": "python",
   "pygments_lexer": "ipython3",
   "version": "3.6.5"
  }
 },
 "nbformat": 4,
 "nbformat_minor": 1
}
