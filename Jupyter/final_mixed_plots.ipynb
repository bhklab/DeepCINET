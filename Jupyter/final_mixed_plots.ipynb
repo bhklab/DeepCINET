{
 "cells": [
  {
   "cell_type": "code",
   "execution_count": 4,
   "metadata": {},
   "outputs": [
    {
     "name": "stdout",
     "output_type": "stream",
     "text": [
      "(matplotlib.backends): backend module://ipykernel.pylab.backend_inline version unknown\n"
     ]
    },
    {
     "name": "stdout",
     "output_type": "stream",
     "text": [
      "(root): Jupyter notebook start\n"
     ]
    },
    {
     "name": "stdout",
     "output_type": "stream",
     "text": [
      "(root): Data results: /Users/jmigual/Documents/Projects/CNNSurv/Data/Results\n"
     ]
    }
   ],
   "source": [
    "import os\n",
    "from typing import List, Tuple\n",
    "\n",
    "import pandas as pd\n",
    "import numpy as np\n",
    "import matplotlib.pyplot as plt\n",
    "from sklearn.metrics import roc_curve, auc\n",
    "\n",
    "%matplotlib inline\n",
    "\n",
    "import settings\n",
    "import utils\n",
    "\n",
    "logger = utils.init_logger(f'final_mixed_plots', './outputs')\n",
    "\n",
    "logger.info(\"Jupyter notebook start\")\n",
    "\n",
    "DATA_RESULTS = os.path.join(settings.DATA_PATH, \"Results\")\n",
    "\n",
    "logger.info(f\"Data results: {DATA_RESULTS}\")"
   ]
  },
  {
   "cell_type": "code",
   "execution_count": 5,
   "metadata": {},
   "outputs": [
    {
     "name": "stdout",
     "output_type": "stream",
     "text": [
      "(utils.results): Searching on /Users/jmigual/Documents/Projects/CNNSurv/Data/Results/Model_volume mixed\n"
     ]
    },
    {
     "name": "stdout",
     "output_type": "stream",
     "text": [
      "(utils.results): Found 509\n"
     ]
    },
    {
     "name": "stdout",
     "output_type": "stream",
     "text": [
      "(utils.results): Finished /Users/jmigual/Documents/Projects/CNNSurv/Data/Results/Model_volume mixed\n\n"
     ]
    },
    {
     "name": "stdout",
     "output_type": "stream",
     "text": [
      "(utils.results): Searching on /Users/jmigual/Documents/Projects/CNNSurv/Data/Results/Model_volume train\n"
     ]
    },
    {
     "name": "stdout",
     "output_type": "stream",
     "text": [
      "(utils.results): Found 509\n"
     ]
    },
    {
     "name": "stdout",
     "output_type": "stream",
     "text": [
      "(utils.results): Finished /Users/jmigual/Documents/Projects/CNNSurv/Data/Results/Model_volume train\n\n"
     ]
    },
    {
     "name": "stdout",
     "output_type": "stream",
     "text": [
      "(utils.results): Searching on /Users/jmigual/Documents/Projects/CNNSurv/Data/Results/Model_scalar mixed\n"
     ]
    },
    {
     "name": "stdout",
     "output_type": "stream",
     "text": [
      "(utils.results): Found 509\n"
     ]
    },
    {
     "name": "stdout",
     "output_type": "stream",
     "text": [
      "(utils.results): Finished /Users/jmigual/Documents/Projects/CNNSurv/Data/Results/Model_scalar mixed\n\n"
     ]
    },
    {
     "name": "stdout",
     "output_type": "stream",
     "text": [
      "(utils.results): Searching on /Users/jmigual/Documents/Projects/CNNSurv/Data/Results/Model_scalar train\n"
     ]
    },
    {
     "name": "stdout",
     "output_type": "stream",
     "text": [
      "(utils.results): Found 509\n"
     ]
    },
    {
     "name": "stdout",
     "output_type": "stream",
     "text": [
      "(utils.results): Finished /Users/jmigual/Documents/Projects/CNNSurv/Data/Results/Model_scalar train\n\n"
     ]
    },
    {
     "name": "stdout",
     "output_type": "stream",
     "text": [
      "(utils.results): Searching on /Users/jmigual/Documents/Projects/CNNSurv/Data/Results/Model_scalar_4CV mixed\n"
     ]
    },
    {
     "name": "stdout",
     "output_type": "stream",
     "text": [
      "(utils.results): Found 4\n"
     ]
    },
    {
     "name": "stdout",
     "output_type": "stream",
     "text": [
      "(utils.results): Finished /Users/jmigual/Documents/Projects/CNNSurv/Data/Results/Model_scalar_4CV mixed\n\n"
     ]
    },
    {
     "name": "stdout",
     "output_type": "stream",
     "text": [
      "(utils.results): Searching on /Users/jmigual/Documents/Projects/CNNSurv/Data/Results/Model_scalar_4CV train\n"
     ]
    },
    {
     "name": "stdout",
     "output_type": "stream",
     "text": [
      "(utils.results): Found 4\n"
     ]
    },
    {
     "name": "stdout",
     "output_type": "stream",
     "text": [
      "(utils.results): Finished /Users/jmigual/Documents/Projects/CNNSurv/Data/Results/Model_scalar_4CV train\n\n"
     ]
    },
    {
     "name": "stdout",
     "output_type": "stream",
     "text": [
      "(utils.results): Searching on /Users/jmigual/Documents/Projects/CNNSurv/Data/Results/Model_scalar_4CV test\n"
     ]
    },
    {
     "name": "stdout",
     "output_type": "stream",
     "text": [
      "(utils.results): Found 4\n"
     ]
    },
    {
     "name": "stdout",
     "output_type": "stream",
     "text": [
      "(utils.results): Finished /Users/jmigual/Documents/Projects/CNNSurv/Data/Results/Model_scalar_4CV test\n\n"
     ]
    },
    {
     "name": "stdout",
     "output_type": "stream",
     "text": [
      "(utils.results): Searching on /Users/jmigual/Documents/Projects/CNNSurv/Data/Results/Model_volume_4CV mixed\n"
     ]
    },
    {
     "name": "stdout",
     "output_type": "stream",
     "text": [
      "(utils.results): Found 4\n"
     ]
    },
    {
     "name": "stdout",
     "output_type": "stream",
     "text": [
      "(utils.results): Finished /Users/jmigual/Documents/Projects/CNNSurv/Data/Results/Model_volume_4CV mixed\n\n"
     ]
    },
    {
     "name": "stdout",
     "output_type": "stream",
     "text": [
      "(utils.results): Searching on /Users/jmigual/Documents/Projects/CNNSurv/Data/Results/Model_volume_4CV train\n"
     ]
    },
    {
     "name": "stdout",
     "output_type": "stream",
     "text": [
      "(utils.results): Found 4\n"
     ]
    },
    {
     "name": "stdout",
     "output_type": "stream",
     "text": [
      "(utils.results): Finished /Users/jmigual/Documents/Projects/CNNSurv/Data/Results/Model_volume_4CV train\n\n"
     ]
    },
    {
     "name": "stdout",
     "output_type": "stream",
     "text": [
      "(utils.results): Searching on /Users/jmigual/Documents/Projects/CNNSurv/Data/Results/Model_volume_4CV test\n"
     ]
    },
    {
     "name": "stdout",
     "output_type": "stream",
     "text": [
      "(utils.results): Found 4\n"
     ]
    },
    {
     "name": "stdout",
     "output_type": "stream",
     "text": [
      "(utils.results): Finished /Users/jmigual/Documents/Projects/CNNSurv/Data/Results/Model_volume_4CV test\n\n"
     ]
    },
    {
     "name": "stdout",
     "output_type": "stream",
     "text": [
      "Done\n"
     ]
    }
   ],
   "source": [
    "from utils import all_results\n",
    "\n",
    "# all_c_index(DATA_RESULTS + \"/Model_scalar\")\n",
    "\n",
    "results = {\n",
    "    'volume': {\n",
    "        \"mixed\": all_results(DATA_RESULTS + \"/Model_volume\", \"mixed\"),  \n",
    "        \"train\": all_results(DATA_RESULTS + \"/Model_volume\", \"train\"),\n",
    "    },\n",
    "    'scalar': {\n",
    "        \"mixed\": all_results(DATA_RESULTS + \"/Model_scalar\", \"mixed\"),\n",
    "        \"train\": all_results(DATA_RESULTS + \"/Model_scalar\", \"train\"),\n",
    "    },\n",
    "    'scalar_CV': {\n",
    "        \"mixed\": all_results(DATA_RESULTS + \"/Model_scalar_4CV\", \"mixed\"),\n",
    "        \"train\": all_results(DATA_RESULTS + \"/Model_scalar_4CV\", \"train\"),\n",
    "        \"test\": all_results(DATA_RESULTS + \"/Model_scalar_4CV\", \"test\"),\n",
    "    },\n",
    "    'volume_CV': {\n",
    "        \"mixed\": all_results(DATA_RESULTS + \"/Model_volume_4CV\", \"mixed\"),\n",
    "        \"train\": all_results(DATA_RESULTS + \"/Model_volume_4CV\", \"train\"),\n",
    "        \"test\": all_results(DATA_RESULTS + \"/Model_volume_4CV\", \"test\"),\n",
    "    }\n",
    "}\n",
    "\n",
    "print(\"Done\")"
   ]
  },
  {
   "cell_type": "code",
   "execution_count": 68,
   "metadata": {},
   "outputs": [
    {
     "name": "stdout",
     "output_type": "stream",
     "text": [
      "scalar\nIndex(['censored', 'id', 'right', 'total', 'c-index'], dtype='object')\nCount: 294568\nMean: 0.8225101109263735\nMedian: 0.9336734693877551\nStd: 0.23897976309318378\nc-index cens 0.7883476820292767\nc-index no cens 0.7401436261748224\n"
     ]
    },
    {
     "name": "stderr",
     "output_type": "stream",
     "text": [
      "/Users/jmigual/Documents/Projects/CNNSurv/venv/lib/python3.6/site-packages/numpy/core/fromnumeric.py:52: FutureWarning: reshape is deprecated and will raise in a subsequent release. Please use .values.reshape(...) instead\n  return getattr(obj, method)(*args, **kwds)\n"
     ]
    },
    {
     "data": {
      "image/png": "[encoded data removed]",
      "text/plain": [
       "<Figure size 432x288 with 1 Axes>"
      ]
     },
     "metadata": {},
     "output_type": "display_data"
    },
    {
     "name": "stdout",
     "output_type": "stream",
     "text": [
      "volume\nIndex(['censored', 'id', 'right', 'total', 'c-index'], dtype='object')\nCount: 294568\nMean: 0.6472435398030963\nMedian: 0.6981519507186859\nStd: 0.2346668636234313\nc-index cens 0.637761060264523\nc-index no cens 0.6232239774081101\n"
     ]
    },
    {
     "data": {
      "image/png": "[encoded data removed]",
      "text/plain": [
       "<Figure size 432x288 with 1 Axes>"
      ]
     },
     "metadata": {},
     "output_type": "display_data"
    }
   ],
   "source": [
    "from matplotlib.lines import Line2D\n",
    "\n",
    "\n",
    "def results_hits(cens_results: pd.DataFrame, uncens_results: pd.DataFrame, name):\n",
    "    print(f\"{name}\")\n",
    "    print(cens_results.columns)\n",
    "    mean = cens_results['c-index'].mean()\n",
    "    median = cens_results['c-index'].median()\n",
    "    std = cens_results['c-index'].std()\n",
    "    print(f\"Count: {cens_results['total'].sum()}\")\n",
    "    print(f\"Mean: {mean}\")\n",
    "    print(f\"Median: {median}\")\n",
    "    print(f\"Std: {std}\")\n",
    "    \n",
    "    all_c_index = cens_results['right'].sum(axis=0)/cens_results['total'].sum(axis=0)\n",
    "    \n",
    "    print(f\"c-index cens {all_c_index}\")\n",
    "    \n",
    "    no_cens_c_index = uncens_results['right'].sum(axis=0)/uncens_results['total'].sum(axis=0)\n",
    "    \n",
    "    print(f\"c-index no cens {no_cens_c_index}\")\n",
    "    \n",
    "    n, bins, patches = plt.hist([cens_results['c-index'], uncens_results['c-index']],\n",
    "                                bins=20,\n",
    "                                label=['All', 'Non censored'],\n",
    "                                color=['royalblue', 'orange'])\n",
    "    max_val = max(map(lambda x: max(map(lambda y: y.get_height(), x)), patches))\n",
    "    \n",
    "    # n, bins, patches = plt.hist([cens_results['c-index']],\n",
    "    #                             bins=20,\n",
    "    #                             label=['All'],\n",
    "    #                             color=['royalblue'],\n",
    "    #                             range=(0, 1))\n",
    "    # max_val = max(map(lambda x: x.get_height(), patches))\n",
    "    \n",
    "    plt.axvline(all_c_index, color='orange', linestyle='dashed')\n",
    "    # plt.text(all_c_index, max_val*.8, 'CI all', rotation=90)\n",
    "    \n",
    "    plt.axvline(.5, color='r')\n",
    "    \n",
    "    # plt.axvline(no_cens_c_index, color='black', linestyle='dashed')\n",
    "    # plt.text(no_cens_c_index, max_val*.8, 'CI no censored', rotation=90)\n",
    "    \n",
    "    plt.axvline(float(mean), color='g', linestyle='dashed')\n",
    "    # plt.text(float(mean), max_val*.8, \"mean\", rotation=-90)\n",
    "\n",
    "    plt.axvline(float(median), color='y', linestyle='dashed')\n",
    "    # plt.text(float(median), max_val*.8, \"median\", rotation=-90)\n",
    "    \n",
    "    plt.xlim(0, 1)\n",
    "    \n",
    "    plt.xlabel(\"CI\")\n",
    "    plt.ylabel(\"Amount\")\n",
    "    \n",
    "    ax = plt.gca()\n",
    "    lines = [\n",
    "        Line2D([0], [0], color='orange', linestyle='dashed'),\n",
    "        Line2D([0], [0], color='g', linestyle='dashed'),\n",
    "        Line2D([0], [0], color='y', linestyle='dashed'),\n",
    "        Line2D([0], [0], color='r'),\n",
    "        Line2D([0], [0], color='royalblue', lw=5),\n",
    "        Line2D([0], [0], color='orange', lw=5),\n",
    "    ]\n",
    "    ax.legend(lines, [\"CI\", \"Mean\", \"Median\", \"CI=0.5\", \"All\", \"Uncensored\"])\n",
    "    \n",
    "    # plt.legend(loc='upper left')\n",
    "    plt.title(\"C-index histogram\")\n",
    "    \n",
    "    plt.savefig(f\"outputs/c-index_{name}.png\", dpi=300)\n",
    "    plt.show()\n",
    "    \n",
    "    \n",
    "results_hits(*(results['scalar']['mixed'][0]), \"scalar\")\n",
    "results_hits(*(results['volume']['mixed'][0]), \"volume\")\n",
    "\n",
    "# print(\"Scalar CV\")\n",
    "# results_hits(*(results['scalar_CV']['mixed'][0]), \"scalar_mixed\")\n",
    "# results_hits(*(results['scalar_CV']['train'][0]), \"scalar_train\")\n",
    "# results_hits(*(results['scalar_CV']['test'][0]), \"scalar_test\")\n",
    "# \n",
    "# print(\"Volume CV\")\n",
    "# results_hits(*(results['volume_CV']['mixed'][0]), \"volume_mixed\")\n",
    "# results_hits(*(results['volume_CV']['train'][0]), \"volume_train\")\n",
    "# results_hits(*(results['volume_CV']['test'][0]), \"volume_test\")\n"
   ]
  },
  {
   "cell_type": "code",
   "execution_count": 58,
   "metadata": {},
   "outputs": [
    {
     "name": "stdout",
     "output_type": "stream",
     "text": [
      "\\textbf{Fold} & \\textbf{Mixed} & \\textbf{Train} & \\textbf{Test} & \\textbf{Mixed} & \\textbf{Train} & \\textbf{Test} \\\\\n0 & 55512 & 82518 & 9254 & 0.784 & 0.959 & 0.619 \\\\\n1 & 55176 & 82958 & 9150 & 0.798 & 0.96 & 0.637 \\\\\n2 & 54864 & 83416 & 9004 & 0.791 & 0.954 & 0.622 \\\\\n3 & 55576 & 82396 & 9312 & 0.784 & 0.954 & 0.618 \\\\\nTotal & 221128 & 331288 & 36720 & 0.789 & 0.957 & 0.624\\\\\n\\textbf{Fold} & \\textbf{Mixed} & \\textbf{Train} & \\textbf{Test} & \\textbf{Mixed} & \\textbf{Train} & \\textbf{Test} \\\\\n0 & 55512 & 82518 & 9254 & 0.65 & 0.625 & 0.673 \\\\\n1 & 55176 & 82958 & 9150 & 0.633 & 0.643 & 0.619 \\\\\n2 & 54864 & 83416 & 9004 & 0.655 & 0.621 & 0.687 \\\\\n3 & 55576 & 82396 & 9312 & 0.615 & 0.661 & 0.568 \\\\\nTotal & 221128 & 331288 & 36720 & 0.638 & 0.638 & 0.636\\\\\n"
     ]
    }
   ],
   "source": [
    "def create_latex_table(all_dict):\n",
    "    # print(r\"\\textbf{Fold} & \\textbf{Train} & \\textbf{Test} & \\textbf{Mixed} & \\textbf{Train} \"\n",
    "    #       r\"& \\textbf{Test} & \\textbf{Mixed} \\\\\")\n",
    "    \n",
    "    keys = list(all_dict.keys())\n",
    "    \n",
    "    res = \"\"\n",
    "    for key in keys:\n",
    "        res += r\" & \\textbf{\" + f\"{key.capitalize()}\" + r\"}\"\n",
    "    res = r\"\\textbf{Fold}\" + res*2 + r\" \\\\\"\n",
    "    print(res)\n",
    "    \n",
    "    length = len(all_dict['train'][0][0])\n",
    "    for i in range(length):\n",
    "        temp_total = f\"{i}\"\n",
    "        temp_ci = \"\"\n",
    "        for key in keys:\n",
    "            sel_set, _ = all_dict[key][0]\n",
    "            total = sel_set['total'].iloc[i]\n",
    "            c_i = sel_set['right'].iloc[i]/total\n",
    "            temp_total += f\" & {total}\"\n",
    "            temp_ci += f\" & {c_i:.3}\"\n",
    "        temp_ci += r\" \\\\\"\n",
    "        print(temp_total + temp_ci)\n",
    "        \n",
    "    res_total = \"Total\"\n",
    "    res_ci = \"\"\n",
    "    for key in keys:\n",
    "        sel_set, _ = all_dict[key][0]\n",
    "        total = sel_set['total'].sum()\n",
    "        c_i = sel_set['right'].sum()/total\n",
    "        res_total += f\" & {total}\"\n",
    "        res_ci += f\" & {c_i:.3}\"\n",
    "    res_ci = res_ci + r\" \\\\\"\n",
    "    print(res_total + res_ci)\n",
    "    \n",
    "    \n",
    "create_latex_table(results['scalar_CV'])\n",
    "create_latex_table(results['volume_CV'])\n",
    "# create_latex_table(results['scalar'])\n",
    "# create_latex_table(results['volume'])\n"
   ]
  },
  {
   "cell_type": "code",
   "execution_count": 69,
   "metadata": {},
   "outputs": [
    {
     "name": "stdout",
     "output_type": "stream",
     "text": [
      "7\n"
     ]
    },
    {
     "data": {
      "image/png": "[encoded data removed]",
      "text/plain": [
       "<Figure size 432x288 with 1 Axes>"
      ]
     },
     "metadata": {},
     "output_type": "display_data"
    },
    {
     "name": "stdout",
     "output_type": "stream",
     "text": [
      "7\n"
     ]
    },
    {
     "data": {
      "image/png": "[encoded data removed]",
      "text/plain": [
       "<Figure size 432x288 with 1 Axes>"
      ]
     },
     "metadata": {},
     "output_type": "display_data"
    }
   ],
   "source": [
    "def scatter_results(cens_results: pd.DataFrame, uncens_results: pd.DataFrame, name):\n",
    "    plt.scatter(cens_results['c-index'], cens_results['total']/2, label=\"Censored\", color=\"royalblue\", s=5, alpha=.4)\n",
    "    #plt.scatter(uncens_results['c-index'], uncens_results['total'], label=\"Non censored\", color=\"orange\", s=5, alpha=.4)\n",
    "    \n",
    "    less_pairs = cens_results.loc[cens_results['total']/2 < 100]\n",
    "    print(len(less_pairs))\n",
    "    plt.scatter(less_pairs['c-index'], less_pairs['total']/2, color='red', s=5)\n",
    "    \n",
    "    # plt.legend(loc='lower left')\n",
    "    plt.xlabel(\"CI\")\n",
    "    plt.ylabel(\"Number of pairs\")\n",
    "    \n",
    "    plt.savefig(f\"outputs/scatter_{name}.png\", dpi=300)\n",
    "    plt.show()\n",
    "\n",
    "\n",
    "scatter_results(*(results['scalar']['mixed'][0]), 'scalar')\n",
    "scatter_results(*(results['volume']['mixed'][0]), 'volume')\n"
   ]
  },
  {
   "cell_type": "code",
   "execution_count": 55,
   "metadata": {
    "collapsed": false
   },
   "outputs": [
    {
     "data": {
      "image/png": "[encoded data removed]",
      "text/plain": [
       "<Figure size 432x288 with 1 Axes>"
      ]
     },
     "metadata": {},
     "output_type": "display_data"
    }
   ],
   "source": [
    "\n",
    "def roc_plot(models: List[Tuple[str, pd.DataFrame]]):\n",
    "    plt.plot([0, 1], [0, 1], color='navy', linestyle='dashed')\n",
    "    for name, predictions in models:\n",
    "        fpr, tpr, _ = roc_curve(predictions['labels'], predictions['probabilities'])\n",
    "        roc_auc = auc(fpr, tpr)\n",
    "        plt.plot(fpr, tpr, label=f\"ROC {name} (area = {roc_auc:.2})\")\n",
    "        \n",
    "    plt.xlim(0, 1)\n",
    "    plt.ylim(0, 1)\n",
    "    plt.legend(loc=\"lower right\")\n",
    "    \n",
    "    plt.xlabel(\"False Positive Rate\")\n",
    "    plt.ylabel(\"True Positive Rate\")\n",
    "    \n",
    "    plt.show()\n",
    "\n",
    "\n",
    "roc_plot([('Features', results['scalar'][1]), ('Volume', results['volume'][1])])"
   ]
  },
  {
   "cell_type": "code",
   "execution_count": 14,
   "metadata": {},
   "outputs": [],
   "source": [
    "import math\n",
    "\n",
    "tasks = 509\n",
    "workers = 10\n",
    "\n",
    "length = int(math.ceil(509/workers))\n",
    "# length = 509 // 41\n",
    "print(length, length*workers, length*workers - tasks)\n",
    "limit = tasks - (length - 1)*workers\n",
    "print(\"Limit: \", limit)\n",
    "print(\"-----------------\")\n",
    "\n",
    "prev_end = 0\n",
    "for i in range(0, workers):\n",
    "    task_begin = prev_end\n",
    "    task_end = task_begin + length - (0 if i < limit else 1)\n",
    "    task_end = min(task_end, tasks)\n",
    "        \n",
    "    prev_end = task_end\n",
    "        \n",
    "    # task_end = (i + 1)*length if i + 1 != task_count else tasks - 1\n",
    "    print(task_begin, task_end - 1, task_end - task_begin)"
   ]
  }
 ],
 "metadata": {
  "kernelspec": {
   "display_name": "Python 3",
   "language": "python",
   "name": "python3"
  },
  "language_info": {
   "codemirror_mode": {
    "name": "ipython",
    "version": 3
   },
   "file_extension": ".py",
   "mimetype": "text/x-python",
   "name": "python",
   "nbconvert_exporter": "python",
   "pygments_lexer": "ipython3",
   "version": "3.6.5"
  }
 },
 "nbformat": 4,
 "nbformat_minor": 2
}
